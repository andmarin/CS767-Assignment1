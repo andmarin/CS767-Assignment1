{
 "cells": [
  {
   "cell_type": "code",
   "execution_count": 2,
   "metadata": {},
   "outputs": [],
   "source": [
    "import pandas as pd\n",
    "from sklearn.model_selection import train_test_split\n",
    "from sklearn.tree import DecisionTreeClassifier\n",
    "from sklearn.preprocessing import OneHotEncoder, StandardScaler\n",
    "from sklearn.compose import ColumnTransformer\n",
    "from sklearn.pipeline import Pipeline\n",
    "from sklearn.metrics import accuracy_score\n",
    "import numpy as np"
   ]
  },
  {
   "cell_type": "code",
   "execution_count": 3,
   "metadata": {},
   "outputs": [],
   "source": [
    "# Load the data\n",
    "df = pd.read_csv('Telco-Customer-Churn.csv')\n",
    "\n",
    "# Drop Customer ID\n",
    "df = df.drop(columns=['customerID'])"
   ]
  },
  {
   "cell_type": "code",
   "execution_count": 4,
   "metadata": {},
   "outputs": [
    {
     "name": "stderr",
     "output_type": "stream",
     "text": [
      "C:\\Users\\Marinand\\AppData\\Local\\Temp\\ipykernel_29796\\3551351975.py:10: FutureWarning: Downcasting behavior in `replace` is deprecated and will be removed in a future version. To retain the old behavior, explicitly call `result.infer_objects(copy=False)`. To opt-in to the future behavior, set `pd.set_option('future.no_silent_downcasting', True)`\n",
      "  df.replace(binary_columns, inplace=True)\n"
     ]
    }
   ],
   "source": [
    "# Convert binary columns\n",
    "binary_columns = {\n",
    "    'gender': {'Male': 1, 'Female': 0},\n",
    "    'Partner': {'Yes': 1, 'No': 0},\n",
    "    'Dependents': {'Yes': 1, 'No': 0},\n",
    "    'PhoneService': {'Yes': 1, 'No': 0},\n",
    "    'PaperlessBilling': {'Yes': 1, 'No': 0},\n",
    "    'Churn': {'Yes': 1, 'No': 0}\n",
    "}\n",
    "df.replace(binary_columns, inplace=True)\n",
    "\n",
    "# Drop rows with any blank or NaN values\n",
    "df.replace(' ', pd.NA, inplace=True)  # Replace blank strings with NaN\n",
    "df.dropna(inplace=True)  # Drop rows with any NaN values\n",
    "\n",
    "# Convert numeric columns to proper data types\n",
    "numeric_columns = ['tenure', 'MonthlyCharges', 'TotalCharges']\n",
    "df[numeric_columns] = df[numeric_columns].apply(pd.to_numeric)\n",
    "\n",
    "# Handle target column\n",
    "y = df['Churn']\n",
    "X = df.drop(columns=['Churn'])\n",
    "\n",
    "# Define preprocessing steps\n",
    "numeric_features = ['tenure', 'MonthlyCharges', 'TotalCharges']\n",
    "numeric_transformer = StandardScaler()\n",
    "\n",
    "categorical_features = ['MultipleLines', 'InternetService', 'OnlineSecurity', \n",
    "                        'OnlineBackup', 'DeviceProtection', 'TechSupport', \n",
    "                        'StreamingTV', 'StreamingMovies', 'Contract', 'PaymentMethod']\n",
    "categorical_transformer = OneHotEncoder(drop='first')  # Drop first to avoid multicollinearity\n",
    "\n",
    "# Combine preprocessing steps\n",
    "preprocessor = ColumnTransformer(\n",
    "    transformers=[\n",
    "        ('num', numeric_transformer, numeric_features),\n",
    "        ('cat', categorical_transformer, categorical_features)\n",
    "    ],\n",
    "    remainder='passthrough'  # Keep other already-processed binary columns as is\n",
    ")\n",
    "\n",
    "# Build pipeline with decision tree classifier\n",
    "pipeline = Pipeline(steps=[\n",
    "    ('preprocessor', preprocessor),\n",
    "    ('classifier', DecisionTreeClassifier(random_state=42))\n",
    "])\n"
   ]
  },
  {
   "cell_type": "code",
   "execution_count": 5,
   "metadata": {},
   "outputs": [
    {
     "name": "stdout",
     "output_type": "stream",
     "text": [
      "Accuracy: 0.7242359630419332\n"
     ]
    }
   ],
   "source": [
    "# Split data into training and testing sets\n",
    "X_train, X_test, y_train, y_test = train_test_split(X, y, test_size=0.2, random_state=42)\n",
    "\n",
    "# Train the model\n",
    "pipeline.fit(X_train, y_train)\n",
    "\n",
    "# Make predictions and evaluate\n",
    "y_pred = pipeline.predict(X_test)\n",
    "print(\"Accuracy:\", accuracy_score(y_test, y_pred))"
   ]
  },
  {
   "cell_type": "code",
   "execution_count": 7,
   "metadata": {},
   "outputs": [
    {
     "name": "stdout",
     "output_type": "stream",
     "text": [
      "Sample input:\n",
      "{'gender': 1, 'SeniorCitizen': 0, 'Partner': 1, 'Dependents': 0, 'tenure': 13, 'PhoneService': 1, 'MultipleLines': 'Yes', 'InternetService': 'Fiber optic', 'OnlineSecurity': 'No', 'OnlineBackup': 'No', 'DeviceProtection': 'Yes', 'TechSupport': 'No', 'StreamingTV': 'Yes', 'StreamingMovies': 'Yes', 'Contract': 'Month-to-month', 'PaperlessBilling': 1, 'PaymentMethod': 'Credit card (automatic)', 'MonthlyCharges': 102.25, 'TotalCharges': 1359.0}\n",
      "\n",
      "Predicted Churn (1 = Yes, 0 = No): 0\n",
      "\n",
      "Actual Churn: 1\n"
     ]
    }
   ],
   "source": [
    "# Select a single example from X_test for I/O section\n",
    "sample_index = 2  # You can change this to any index within X_test's range\n",
    "sample_input = X_test.iloc[sample_index:sample_index+1]\n",
    "\n",
    "# Convert to dictionary format for better readability\n",
    "sample_input_dict = sample_input.to_dict(orient='records')[0]\n",
    "\n",
    "# Predict churn for this single example\n",
    "sample_prediction = pipeline.predict(sample_input)\n",
    "\n",
    "# Display the sample input and its prediction\n",
    "print(\"Sample input:\")\n",
    "print(sample_input_dict)\n",
    "print(\"\\nPredicted Churn (1 = Yes, 0 = No):\", sample_prediction[0])\n",
    "\n",
    "# Check the actual outcome to compare\n",
    "actual_outcome = y_test.iloc[sample_index]\n",
    "print(\"\\nActual Churn:\", actual_outcome)"
   ]
  },
  {
   "cell_type": "code",
   "execution_count": null,
   "metadata": {},
   "outputs": [],
   "source": []
  }
 ],
 "metadata": {
  "kernelspec": {
   "display_name": "Python 3",
   "language": "python",
   "name": "python3"
  },
  "language_info": {
   "codemirror_mode": {
    "name": "ipython",
    "version": 3
   },
   "file_extension": ".py",
   "mimetype": "text/x-python",
   "name": "python",
   "nbconvert_exporter": "python",
   "pygments_lexer": "ipython3",
   "version": "3.12.2"
  }
 },
 "nbformat": 4,
 "nbformat_minor": 2
}
